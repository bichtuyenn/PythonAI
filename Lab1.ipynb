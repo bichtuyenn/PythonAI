{
 "cells": [
  {
   "cell_type": "code",
   "execution_count": null,
   "metadata": {},
   "outputs": [],
   "source": [
    "n = 10000\n",
    "sum = 0\n",
    "i = 1\n",
    "while (i < n + 1) :\n",
    "    sum += i\n",
    "    i += 1\n",
    "\n",
    "print(\"Sum from 1 to 10000 is : \", sum)"
   ]
  },
  {
   "cell_type": "code",
   "execution_count": null,
   "metadata": {},
   "outputs": [],
   "source": [
    "n = 100\n",
    "sum = 0\n",
    "i = 1\n",
    "while (i < n + 1) :\n",
    "    sum += (pow(i,3) + 3*pow(i,2) + 5*i + 9)\n",
    "    i += 1\n",
    "\n",
    "print(\"Sum from 1 to 100 is : \", sum)"
   ]
  },
  {
   "cell_type": "code",
   "execution_count": null,
   "metadata": {},
   "outputs": [],
   "source": [
    "list_1 = [10, 20, 30, 40, 50]\n",
    "list_2 = ['cat', 'dog', 'tiger']\n",
    "def funct_reverse(xlist):\n",
    "    k=[]\n",
    "    for i in range(len(xlist) - 1, -1, -1):\n",
    "        k.append(xlist[i])\n",
    "    return k\n",
    "print(\"List 1:\", list_1)\n",
    "print(\"List reverse 1: \", funct_reverse(list_1))\n",
    "print(\"List 2:\", list_2)\n",
    "print(\"List reverse 2: \", funct_reverse(list_2))"
   ]
  }
 ],
 "metadata": {
  "language_info": {
   "name": "python"
  },
  "orig_nbformat": 4
 },
 "nbformat": 4,
 "nbformat_minor": 2
}
